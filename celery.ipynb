{
 "cells": [
  {
   "cell_type": "markdown",
   "metadata": {},
   "source": [
    "### Celery\n",
    "+ celery是一个专注于实时处理和任务调度的分布式任务队列。所谓任务就是消息，消息中的有效载荷中包含要执行任务需要的全部数据。\n",
    "\n",
    "#### 使用Celery的常见场景如下：\n",
    "+ 1. Web应用。当用户触发的一个操作需要较长时间才能执行完成时，可以把它作为任务交给Celery去异步执行，执行完再返回给用户。这段时间用户不需要等待，提高了网站的整体吞吐量和响应时间。\n",
    "+ 2. 定时任务。生产环境经常会跑一些定时任务。假如你有上千台的服务器、上千种任务，定时任务的管理很困难，Celery可以帮助我们快速在不同的机器设定不同种任务。\n",
    "+ 3. 同步完成的附加工作都可以异步完成。比如发送短信/邮件、推送消息、清理/设置缓存等。\n",
    "\n",
    "#### Celery提供的特性：\n",
    "+ 1.方便地查看定时任务的执行情况，比如执行是否成功、当前状态、执行任务花费的时间等。\n",
    "+ 2.可以使用功能齐备的管理后台或者命令行添加、更新、删除任务。\n",
    "+ 3.方便把任务和配置管理相关联。\n",
    "+ 4.可选多进程、Eventlet和Gevent三种模式并发执行。\n",
    "+ 5.提供错误处理机制。\n",
    "+ 6.提供多种任务原语，方便实现任务分组、拆分和调用链。\n",
    "+ 7.支持多种消息代理和存储后端。\n",
    "\n",
    "#### Celery的架构\n",
    "![title](img/celery架构.png)\n",
    "##### Celery包含如下组件：\n",
    "+ 1.Celery Beat：任务调度器，Beat进程会读取配置文件的内容，周期性地将配置中到期需要执行的任务发送给任务队列。\n",
    "+ 2.Celery Worker：执行任务的消费者，通常会在多台服务器运行多个消费者来提高执行效率。\n",
    "+ 3.Broker：消息代理，或者叫作消息中间件，接受任务生产者发送过来的任务消息，存进队列再按序分发给任务消费方（通常是消息队列或者数据库）。\n",
    "+ 4.Producer：调用了Celery提供的API、函数或者装饰器而产生任务并交给任务队列处理的都是任务生产者。\n",
    "+ 5.Result Backend：任务处理完后保存状态信息和结果，以供查询。Celery默认已支持Redis、RabbitMQ、MongoDB、Django ORM、SQLAlchemy等方式。\n",
    "\n",
    "#### 选择消息代理\n",
    "+ Celery目前支持RabbitMQ、Redis、MongoDB、Beanstalk、SQLAlchemy、Zookeeper等作为消息代理，但适用于生产环境的只有RabbitMQ和Redis，至于其他的方式，一是支持有限，二是可能得不到更好的技术支持。\n",
    "+ Celery官方推荐的是RabbitMQ，Celery的作者Ask Solem Hoel最初在VMware就是为RabbitMQ工作的，Celery最初的设计就是基于RabbitMQ，所以使用RabbitMQ会非常稳定，成功案例很多。如果使用Redis，则需要能接受发生突然断电之类的问题造成Redis突然终止后的数据丢失等后果。\n",
    "\n",
    "#### Celery序列化\n",
    "+ 在客户端和消费者之间传输数据需要序列化和反序列化\n",
    "![title](img/celery支持的序列化方案.png)"
   ]
  },
  {
   "cell_type": "code",
   "execution_count": null,
   "metadata": {},
   "outputs": [],
   "source": []
  }
 ],
 "metadata": {
  "kernelspec": {
   "display_name": "Python 3",
   "language": "python",
   "name": "python3"
  },
  "language_info": {
   "codemirror_mode": {
    "name": "ipython",
    "version": 3
   },
   "file_extension": ".py",
   "mimetype": "text/x-python",
   "name": "python",
   "nbconvert_exporter": "python",
   "pygments_lexer": "ipython3",
   "version": "3.7.0"
  },
  "toc": {
   "base_numbering": 1,
   "nav_menu": {},
   "number_sections": true,
   "sideBar": true,
   "skip_h1_title": false,
   "title_cell": "Table of Contents",
   "title_sidebar": "Contents",
   "toc_cell": false,
   "toc_position": {},
   "toc_section_display": true,
   "toc_window_display": false
  }
 },
 "nbformat": 4,
 "nbformat_minor": 2
}
