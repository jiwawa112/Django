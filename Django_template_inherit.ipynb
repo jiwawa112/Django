{
 "cells": [
  {
   "cell_type": "markdown",
   "metadata": {},
   "source": [
    "### 三层继承结构\n",
    "+ 三层继承结构使代码得到最大程度的复用，并且使得添加内容更加简单\n",
    "+ 如下图为常见的电商页面\n",
    "![title](img/常见电商页面(三层继承结构).png)"
   ]
  },
  {
   "cell_type": "code",
   "execution_count": null,
   "metadata": {},
   "outputs": [],
   "source": [
    "# 1.创建根级模板\n",
    "# 名称为“base.html”\n",
    "# 存放整个站点共用的内容\n",
    "<!DOCTYPE html>\n",
    "<html>\n",
    "<head>\n",
    "    <title>{%block title%}{%endblock%} 水果超市</title>\n",
    "</head>\n",
    "<body>\n",
    "top--{{logo}}\n",
    "<hr/>\n",
    "{%block left%}{%endblock%}\n",
    "{%block content%}{%endblock%}\n",
    "<hr/>\n",
    "bottom\n",
    "</body>\n",
    "</html>"
   ]
  },
  {
   "cell_type": "code",
   "execution_count": 1,
   "metadata": {},
   "outputs": [
    {
     "ename": "SyntaxError",
     "evalue": "invalid syntax (<ipython-input-1-82d4e47113bc>, line 6)",
     "output_type": "error",
     "traceback": [
      "\u001b[1;36m  File \u001b[1;32m\"<ipython-input-1-82d4e47113bc>\"\u001b[1;36m, line \u001b[1;32m6\u001b[0m\n\u001b[1;33m    {%extends 'temtest/base.html'%}\u001b[0m\n\u001b[1;37m     ^\u001b[0m\n\u001b[1;31mSyntaxError\u001b[0m\u001b[1;31m:\u001b[0m invalid syntax\n"
     ]
    }
   ],
   "source": [
    "# 2.创建分支模版\n",
    "# 继承自base.html\n",
    "# 名为“base_*.html”\n",
    "# 定义特定分支共用的内容\n",
    "# 定义base_goods.html\n",
    "{%extends 'temtest/base.html'%}\n",
    "{%block title%}商品{%endblock%}\n",
    "{%block left%}\n",
    "<h1>goods left</h1>\n",
    "{%endblock%}\n",
    "定义base_user.html\n",
    "{%extends 'temtest/base.html'%}\n",
    "{%block title%}用户中心{%endblock%}\n",
    "{%block left%}\n",
    "<font color='blue'>user left</font>\n",
    "{%endblock%}\n",
    "定义index.html，继承自base.html，不需要写left块\n",
    "{%extends 'temtest/base.html'%}\n",
    "{%block content%}\n",
    "首页内容\n",
    "{%endblock content%}"
   ]
  },
  {
   "cell_type": "code",
   "execution_count": null,
   "metadata": {},
   "outputs": [],
   "source": [
    "# 3.为具体页面创建模板，继承自分支模板\n",
    "# 定义商品列表页goodslist.html\n",
    "{%extends 'temtest/base_goods.html'%}\n",
    "{%block content%}\n",
    "商品正文列表\n",
    "{%endblock content%}\n",
    "定义用户密码页userpwd.html\n",
    "{%extends 'temtest/base_user.html'%}\n",
    "{%block content%}\n",
    "用户密码修改\n",
    "{%endblock content%}"
   ]
  },
  {
   "cell_type": "code",
   "execution_count": null,
   "metadata": {},
   "outputs": [],
   "source": [
    "# 4.视图调用具体页面，并传递模板中需要的数据\n",
    "# 首页视图index\n",
    "logo='welcome to itcast'\n",
    "def index(request):\n",
    "    return render(request, 'temtest/index.html', {'logo': logo})\n",
    "商品列表视图goodslist\n",
    "def goodslist(request):\n",
    "    return render(request, 'temtest/goodslist.html', {'logo': logo})\n",
    "用户密码视图userpwd\n",
    "def userpwd(request):\n",
    "    return render(request, 'temtest/userpwd.html', {'logo': logo})"
   ]
  },
  {
   "cell_type": "code",
   "execution_count": null,
   "metadata": {},
   "outputs": [],
   "source": [
    "# 5.配置url\n",
    "from django.conf.urls import url\n",
    "from . import views\n",
    "urlpatterns = [\n",
    "    url(r'^$', views.index, name='index'),\n",
    "    url(r'^list/$', views.goodslist, name='list'),\n",
    "    url(r'^pwd/$', views.userpwd, name='pwd'),\n",
    "]"
   ]
  },
  {
   "cell_type": "markdown",
   "metadata": {},
   "source": [
    "### 验证码\n",
    "+ 在用户注册、登录页面，为了防止暴力请求，可以加入验证码功能，如果验证码错误，则不需要继续处理，可以减轻一些服务器的压力\n",
    "+ 使用验证码也是一种有效的防止crsf的方法<br><br>\n",
    "\n",
    "#### 验证码视图\n",
    "+ 新建viewsUtil.py，定义函数verifycode\n",
    "+ 此段代码用到了PIL中的Image、ImageDraw、ImageFont模块，需要先安装Pillow（3.4.1）包，详细文档参考http://pillow.readthedocs.io/en/3.4.x/\n",
    "+ Image表示画布对象\n",
    "+ ImageDraw表示画笔对象\n",
    "+ ImageFont表示字体对象，ubuntu的字体路径为“/usr/share/fonts/truetype/freefont”"
   ]
  },
  {
   "cell_type": "code",
   "execution_count": null,
   "metadata": {},
   "outputs": [],
   "source": [
    "from django.http import HttpResponse\n",
    "def verifycode(request):\n",
    "    #引入绘图模块\n",
    "    from PIL import Image, ImageDraw, ImageFont\n",
    "    #引入随机函数模块\n",
    "    import random\n",
    "    #定义变量，用于画面的背景色、宽、高\n",
    "    bgcolor = (random.randrange(20, 100), random.randrange(\n",
    "        20, 100), 255)\n",
    "    width = 100\n",
    "    height = 25\n",
    "    #创建画面对象\n",
    "    im = Image.new('RGB', (width, height), bgcolor)\n",
    "    #创建画笔对象\n",
    "    draw = ImageDraw.Draw(im)\n",
    "    #调用画笔的point()函数绘制噪点\n",
    "    for i in range(0, 100):\n",
    "        xy = (random.randrange(0, width), random.randrange(0, height))\n",
    "        fill = (random.randrange(0, 255), 255, random.randrange(0, 255))\n",
    "        draw.point(xy, fill=fill)\n",
    "    #定义验证码的备选值\n",
    "    str1 = 'ABCD123EFGHIJK456LMNOPQRS789TUVWXYZ0'\n",
    "    #随机选取4个值作为验证码\n",
    "    rand_str = ''\n",
    "    for i in range(0, 4):\n",
    "        rand_str += str1[random.randrange(0, len(str1))]\n",
    "    #构造字体对象\n",
    "    font = ImageFont.truetype('FreeMono.ttf', 23)\n",
    "    #构造字体颜色\n",
    "    fontcolor = (255, random.randrange(0, 255), random.randrange(0, 255))\n",
    "    #绘制4个字\n",
    "    draw.text((5, 2), rand_str[0], font=font, fill=fontcolor)\n",
    "    draw.text((25, 2), rand_str[1], font=font, fill=fontcolor)\n",
    "    draw.text((50, 2), rand_str[2], font=font, fill=fontcolor)\n",
    "    draw.text((75, 2), rand_str[3], font=font, fill=fontcolor)\n",
    "    #释放画笔\n",
    "    del draw\n",
    "    #存入session，用于做进一步验证\n",
    "    request.session['verifycode'] = rand_str\n",
    "    #内存文件操作\n",
    "    import cStringIO\n",
    "    buf = cStringIO.StringIO()\n",
    "    #将图片保存在内存中，文件类型为png\n",
    "    im.save(buf, 'png')\n",
    "    #将内存中的图片数据返回给客户端，MIME类型为图片png\n",
    "    return HttpResponse(buf.getvalue(), 'image/png')"
   ]
  },
  {
   "cell_type": "code",
   "execution_count": null,
   "metadata": {},
   "outputs": [],
   "source": [
    "# 配置url\n",
    "# 在urls.py中定义请求验证码视图的url\n",
    "from . import viewsUtil\n",
    "\n",
    "urlpatterns = [\n",
    "    url(r'^verifycode/$', viewsUtil.verifycode),\n",
    "]"
   ]
  },
  {
   "cell_type": "code",
   "execution_count": null,
   "metadata": {},
   "outputs": [],
   "source": [
    "# 启动服务器，查看显示成功\n",
    "# 扩展：点击“看不清，换一个”时，可以换一个新的验证码\n",
    "<script type=\"text/javascript\" src=\"/static/jquery-1.12.4.min.js\"></script>\n",
    "<script type=\"text/javascript\">\n",
    "    $(function(){\n",
    "        $('#verifycodeChange').css('cursor','pointer').click(function() {\n",
    "            $('#verifycode').attr('src',$('#verifycode').attr('src')+1)\n",
    "        });\n",
    "    });\n",
    "</script>\n",
    "<img id='verifycode' src=\"/verifycode/?1\" alt=\"CheckCode\"/>\n",
    "<span id='verifycodeChange'>看不清，换一个</span>\n",
    "\n",
    "# 为了能够实现提交功能，需要增加form和input标签\n",
    "<form method='post' action='/verifycodeValid/'>\n",
    "    <input type=\"text\" name=\"vc\">\n",
    "    <img id='verifycode' src=\"/verifycode/?1\" alt=\"CheckCode\"/>\n",
    "<span id='verifycodeChange'>看不清，换一个</span>\n",
    "<br>\n",
    "<input type=\"submit\" value=\"提交\">\n",
    "</form>"
   ]
  },
  {
   "cell_type": "code",
   "execution_count": null,
   "metadata": {},
   "outputs": [],
   "source": [
    "# 验证\n",
    "# 接收请求的信息，与session中的内容对比\n",
    "from django.http import HttpResponse\n",
    "\n",
    "def verifycodeValid(request):\n",
    "    vc = request.POST['vc']\n",
    "    if vc.upper() == request.session['verifycode']:\n",
    "        return HttpResponse('ok')\n",
    "    else:\n",
    "        return HttpResponse('no')\n",
    "# 配置验证处理的url\n",
    "urlpatterns = [\n",
    "    url(r'^verifycodeValid/$', views.verifycodeValid),\n",
    "]"
   ]
  }
 ],
 "metadata": {
  "kernelspec": {
   "display_name": "Python 3",
   "language": "python",
   "name": "python3"
  },
  "language_info": {
   "codemirror_mode": {
    "name": "ipython",
    "version": 3
   },
   "file_extension": ".py",
   "mimetype": "text/x-python",
   "name": "python",
   "nbconvert_exporter": "python",
   "pygments_lexer": "ipython3",
   "version": "3.7.0"
  },
  "toc": {
   "base_numbering": 1,
   "nav_menu": {},
   "number_sections": true,
   "sideBar": true,
   "skip_h1_title": false,
   "title_cell": "Table of Contents",
   "title_sidebar": "Contents",
   "toc_cell": false,
   "toc_position": {},
   "toc_section_display": true,
   "toc_window_display": false
  }
 },
 "nbformat": 4,
 "nbformat_minor": 2
}
